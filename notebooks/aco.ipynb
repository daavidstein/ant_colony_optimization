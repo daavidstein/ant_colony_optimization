{
 "cells": [
  {
   "cell_type": "code",
   "execution_count": 54,
   "metadata": {},
   "outputs": [],
   "source": [
    "import mesa\n",
    "from mesa.space import MultiGrid, PropertyLayer\n",
    "import numpy as np"
   ]
  },
  {
   "cell_type": "code",
   "execution_count": null,
   "metadata": {},
   "outputs": [],
   "source": []
  },
  {
   "cell_type": "code",
   "execution_count": 83,
   "metadata": {},
   "outputs": [],
   "source": [
    "class Model(mesa.Model):\n",
    "    def __init__(self, size: int, n_ants: int, ant_vision = 1, n_foodpile = 1):\n",
    "        super().__init__()\n",
    "        self.n_ants = n_ants\n",
    "\n",
    "        food_layer = self.init_food(size, n_ants)\n",
    "        pheromone_layer = PropertyLayer(name=\"pheromone\", width = size, height= size, default_value=0, dtype=int)\n",
    "        self.grid = MultiGrid(width=size, height=size, torus=True, \n",
    "                              property_layers=[food_layer, pheromone_layer])\n",
    "        self.anthill_pos = (size//2, size//2)\n",
    "        for i in range(n_ants):\n",
    "            agent = Ant(self)\n",
    "            x,  = self.rng.integers(0, self.grid.width, size=1)\n",
    "            y,  = self.rng.integers(0, self.grid.height, size=1)\n",
    "            self.grid.place_agent(agent, (x,y))\n",
    "         \n",
    "    def init_food(self, size, n_foodpile = 1):\n",
    "        food_layer = PropertyLayer(name = \"food\", width = size, height = size, default_value = 0, dtype = int)\n",
    "        n_foodpile = 1\n",
    "        for _ in range(n_foodpile):\n",
    "            x = self.rng.integers(0, size, size=1)\n",
    "            y = self.rng.integers(0, size, size=1)\n",
    "            food_layer.set_cell((x,y),40)\n",
    "        return food_layer\n",
    "            \n",
    "    def step(self):\n",
    "        for agent_class in self.agent_types:\n",
    "            self.agents_by_type[agent_class].shuffle_do(\"step\")\n",
    "\n",
    "def dist(point1, point2):\n",
    "    #manhattan distance\n",
    "    return abs(point1[0] - point2[0]) + abs(point1[1] - point2[1])\n",
    "    \n",
    "class Ant(mesa.Agent):\n",
    "    def __init__(self, model,carrying_capacity =1):\n",
    "        super().__init__(model)\n",
    "        #TODO @property\n",
    "        self.food_bag = 0\n",
    "        self.carrying_capacity = carrying_capacity\n",
    "        #self.model = model\n",
    "\n",
    "    def step(self):\n",
    "        if self.food_bag == 0:\n",
    "            self.explore()\n",
    "        elif self.pos == self.model.anthill_pos:\n",
    "            self.food_bag -=1\n",
    "            print(f\"Ant {self.unique_id} returned food!\")\n",
    "        else:\n",
    "            self.return_to_anthill()\n",
    "\n",
    "    def return_to_anthill(self):\n",
    "        #we assume ants remember the way back to the anthill\n",
    "        #compute the closet cell to the anthill\n",
    "        #which neighboring cell is closest to anthill?\n",
    "        neighbor_distances = {}\n",
    "        for neighbor_cell in self.model.grid.get_neighborhood(self.pos, moore=True, include_center=False):\n",
    "            neighbor_distances[neighbor_cell] = dist(neighbor_cell, self.anthill_pos)\n",
    "        #if there is a tie, choose a random one\n",
    "        move_candidates = [k for k, v in neighbor_distances.items() if v == min(neighbor_distances.values())]\n",
    "        if len(move_candidates) > 1:\n",
    "            move = self.rng.choice(move_candidates)\n",
    "        else:\n",
    "            move = move_candidates[0]\n",
    "        self.model.grid.move_agent(self, move)\n",
    "\n",
    "    def explore(self):\n",
    "        # Move to a neighboring cell\n",
    "        for neighbor_cell in self.model.grid.get_neighborhood(self.pos, moore=True, include_center=False):\n",
    "            food_cells = [neighbor for neighbor in self.model.grid.get_cell_list_contents(neighbor_cell) if isinstance(neighbor, FoodPile)]\n",
    "            pheromone_cells = [neighbor for neighbor in self.model.grid.get_cell_list_contents(neighbor_cell) if isinstance(neighbor, Pheromone)]\n",
    "            if food_cells and self.carrying_capacity > self.food_bag:\n",
    "                # Pick up food\n",
    "                food = food_cells[0]\n",
    "                food.n_food -= 1\n",
    "                self.food_bag += 1\n",
    "                self.model.grid.move_agent(self, neighbor_cell)\n",
    "                print(f\"Ant {self.unique_id} picked up food!\")\n",
    "\n",
    "            elif pheromone_cells:\n",
    "                # Follow pheromone trail\n",
    "                #pick strongest pheromone\n",
    "                move = self.rng.choice(pheromone_cells)\n",
    "                self.model.grid.move_agent(self, move)\n",
    "        print(\"I'm an ant\")"
   ]
  },
  {
   "cell_type": "code",
   "execution_count": 84,
   "metadata": {},
   "outputs": [
    {
     "name": "stdout",
     "output_type": "stream",
     "text": [
      "I'm an ant\n",
      "I'm an ant\n",
      "I'm an ant\n"
     ]
    }
   ],
   "source": [
    "m = Model(size=10, n_ants=3)\n",
    "m.step()"
   ]
  },
  {
   "cell_type": "code",
   "execution_count": 52,
   "metadata": {},
   "outputs": [
    {
     "name": "stdout",
     "output_type": "stream",
     "text": [
      "[1, 2]\n"
     ]
    }
   ],
   "source": [
    "d = {1: 2, 2: 2, 3: 4, 4: 3}\n",
    "#get all keys with minimum value\n",
    "print()\n",
    "print(min(d, key=lambda x: x[1]))"
   ]
  },
  {
   "cell_type": "code",
   "execution_count": 85,
   "metadata": {},
   "outputs": [],
   "source": [
    "\n",
    "\n",
    "# class Pheromone(mesa.Agent, decay=\"linear\"):\n",
    "#     def __init__(self, model, half_life: int):\n",
    "#         super().__init__(model)\n",
    "#         self.half_life = half_life\n",
    "#     @property\n",
    "#     def time_to_live(self):\n",
    "#         self.time_to_live = half_life*2\n",
    "#         #self.model = model\n",
    "#     def decay(self):\n",
    "#         if self.decay == \"linear\":\n",
    "#             self.time_to_live -= 1\n",
    "\n",
    "#         pass\n",
    "#     def step(self):\n",
    "#         print(\"I'm a pheromone\")\n",
    "\n"
   ]
  },
  {
   "cell_type": "code",
   "execution_count": null,
   "metadata": {},
   "outputs": [],
   "source": []
  }
 ],
 "metadata": {
  "kernelspec": {
   "display_name": "venv",
   "language": "python",
   "name": "python3"
  },
  "language_info": {
   "codemirror_mode": {
    "name": "ipython",
    "version": 3
   },
   "file_extension": ".py",
   "mimetype": "text/x-python",
   "name": "python",
   "nbconvert_exporter": "python",
   "pygments_lexer": "ipython3",
   "version": "3.12.7"
  }
 },
 "nbformat": 4,
 "nbformat_minor": 2
}
